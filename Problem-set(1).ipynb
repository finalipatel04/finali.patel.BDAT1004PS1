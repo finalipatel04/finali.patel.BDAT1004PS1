{
 "cells": [
  {
   "cell_type": "markdown",
   "id": "b7183c29",
   "metadata": {},
   "source": [
    "# Problem Set - 1"
   ]
  },
  {
   "cell_type": "markdown",
   "id": "a6f0bdd7",
   "metadata": {},
   "source": [
    "## Question 1"
   ]
  },
  {
   "cell_type": "code",
   "execution_count": 17,
   "id": "cffd7081",
   "metadata": {},
   "outputs": [
    {
     "name": "stdout",
     "output_type": "stream",
     "text": [
      "The variable, 5 is of type:  <class 'int'>\n",
      "The variable, 5.0 is of type:  <class 'float'>\n",
      "The variable, 5>1 is of type:  <class 'bool'>\n",
      "The variable, '5' is of type:  <class 'str'>\n",
      "The variable, 5*2 is of type:  <class 'int'>\n",
      "The variable, '5'*2 is of type:  <class 'str'>\n",
      "The variable, '5'+'2' is of type:  <class 'str'>\n",
      "The variable, 5/2 is of type:  <class 'float'>\n",
      "The variable, 5%2 is of type:  <class 'int'>\n",
      "The variable, {5,2,1} is of type:  <class 'set'>\n",
      "The variable, 5==3 is of type:  <class 'bool'>\n",
      "Pi =  3.141592653589793\n"
     ]
    }
   ],
   "source": [
    "import math\n",
    "\n",
    "a=5\n",
    "b=5.0\n",
    "c=5>1\n",
    "d='5'\n",
    "e=5*2\n",
    "f='5'*2\n",
    "g='5'+'2'\n",
    "h=5/2\n",
    "i=5%2\n",
    "j={5,2,1}\n",
    "k= 5==3\n",
    "print(\"The variable, 5 is of type: \",type(a))\n",
    "print(\"The variable, 5.0 is of type: \",type(b))\n",
    "print(\"The variable, 5>1 is of type: \",type(c))\n",
    "print(\"The variable, '5' is of type: \",type(d))\n",
    "print(\"The variable, 5*2 is of type: \",type(e))\n",
    "print(\"The variable, '5'*2 is of type: \",type(f))\n",
    "print(\"The variable, '5'+'2' is of type: \",type(g))\n",
    "print(\"The variable, 5/2 is of type: \",type(h))\n",
    "print(\"The variable, 5%2 is of type: \",type(i))\n",
    "print(\"The variable, {5,2,1} is of type: \",type(j))\n",
    "print(\"The variable, 5==3 is of type: \",type(k))\n",
    "print (\"Pi = \",math.pi)"
   ]
  },
  {
   "cell_type": "markdown",
   "id": "2ee63b4f",
   "metadata": {},
   "source": [
    "## Question 2"
   ]
  },
  {
   "cell_type": "code",
   "execution_count": 25,
   "id": "c217635c",
   "metadata": {},
   "outputs": [
    {
     "name": "stdout",
     "output_type": "stream",
     "text": [
      "(OUTPUT - |1|)\n",
      "\n",
      "The total letters in the string are :  34\n",
      "\n",
      "(OUTPUT - |2|)\n",
      "\n",
      "ice is present in the string\n",
      "\n",
      "(OUTPUT - |3|)\n",
      "\n",
      "length of 'Supercalifragilisticexpialidocious' and 'Bababadalgharaghtakamminarronnkonn' is equal\n",
      "\n",
      "(OUTPUT - |4|)\n",
      "\n",
      "['Berlioz', 'Borodin', 'Brian', 'Bartok', 'Bellini', 'Buxtehude', 'Bernstein']\n",
      "First Composer :  Berlioz\n",
      "Last Composer :  Bernstein\n"
     ]
    }
   ],
   "source": [
    "l='Supercalifragilisticexpialidocious'\n",
    "m='Honorificabilitudinitatibus'\n",
    "n='Bababadalgharaghtakamminarronnkonn'\n",
    "sub='ice'\n",
    "print('(OUTPUT - |1|)')\n",
    "print()\n",
    "print(\"The total letters in the string are : \",len(l))\n",
    "print()\n",
    "print('(OUTPUT - |2|)')\n",
    "print()\n",
    "if sub in l:\n",
    "  print(\"ice is present in the string\")\n",
    "else:\n",
    "  print(\"ice is not present in the string\")\n",
    "print()\n",
    "print('(OUTPUT - |3|)')\n",
    "print()\n",
    "if len(l)>len(m) and len(l)>len(n):\n",
    "  print(\"length of 'Supercalifragilisticexpialidocious' is maximum\")\n",
    "elif len(m)>len(l) and len(m)>len(n):\n",
    "  print(\"length of  'Honorificabilitudinitatibus' is maximum\")\n",
    "elif len(l)==len(m):\n",
    "  print(\"length of 'Supercalifragilisticexpialidocious' and 'Honorificabilitudinitatibus' is equal\")\n",
    "elif len(l)==len(n):\n",
    "  print(\"length of 'Supercalifragilisticexpialidocious' and 'Bababadalgharaghtakamminarronnkonn' is equal\")\n",
    "elif len(m)==len(n):\n",
    "  print(\"length of 'Honorificabilitudinitatibus' and 'Bababadalgharaghtakamminarronnkonn' is equal\")\n",
    "else:\n",
    "  print(\"length of 'Bababadalgharaghtakamminarronnkonn' is maximum\")\n",
    "print()\n",
    "print('(OUTPUT - |4|)')\n",
    "print()\n",
    "composer = ['Berlioz', 'Borodin', 'Brian', 'Bartok', 'Bellini', 'Buxtehude', 'Bernstein']\n",
    "firstcomp = sorted(composer)\n",
    "print(composer)\n",
    "print(\"First Composer : \" ,composer[0])\n",
    "print(\"Last Composer : \" ,composer[6])"
   ]
  },
  {
   "cell_type": "markdown",
   "id": "a112fd73",
   "metadata": {},
   "source": [
    "## Question 3"
   ]
  },
  {
   "cell_type": "code",
   "execution_count": 19,
   "id": "f5acc9d8",
   "metadata": {},
   "outputs": [
    {
     "name": "stdout",
     "output_type": "stream",
     "text": [
      "Enter length 1 :2\n",
      "Enter length 2 :2\n",
      "Enter length 3 :2\n",
      "\n",
      "Triangle area (2.0, 2.0, 2.0)\n",
      "1.7320508075688772\n"
     ]
    }
   ],
   "source": [
    "import math\n",
    "a=float(input(\"Enter length 1 :\"))\n",
    "b=float(input(\"Enter length 2 :\"))\n",
    "c=float(input(\"Enter length 3 :\"))\n",
    "s=(a+b+c)/2\n",
    "area = math.sqrt(s * (s - a) * (s - b) * (s - c))\n",
    "print(\"\")\n",
    "print(\"Triangle area\" , (a,b,c))\n",
    "print(area)"
   ]
  },
  {
   "cell_type": "markdown",
   "id": "df3e7a2e",
   "metadata": {},
   "source": [
    "## Question 4"
   ]
  },
  {
   "cell_type": "code",
   "execution_count": 27,
   "id": "ac4dde55",
   "metadata": {},
   "outputs": [
    {
     "name": "stdout",
     "output_type": "stream",
     "text": [
      "Input the number of elements to be stored in the array :5\n",
      "The 5  Elements in the Array are : \n",
      "Element - 03\n",
      "Element - 17\n",
      "Element - 21\n",
      "Element - 32\n",
      "Element - 44\n",
      "\n",
      "The Even Elements are : [2, 4]\n",
      "The Odd Elements are : [3, 7, 1]\n"
     ]
    }
   ],
   "source": [
    "n=int(input(\"Input the number of elements to be stored in the array :\"))\n",
    "print('The',n,' Elements in the Array are : ')\n",
    "\n",
    "arrayall=[]\n",
    "even=[]\n",
    "odd=[]\n",
    "for i in range(int(n)):\n",
    "   k=int(input(\"Element - \" +str(i)  )  )\n",
    "   arrayall.append(k)\n",
    "for i in range (0,len(arrayall)):\n",
    "    if arrayall[i] % 2==0 :\n",
    "        even.append(arrayall[i])\n",
    "    else:\n",
    "        odd.append(arrayall[i])\n",
    "print(\"\")\n",
    "print(\"The Even Elements are : \" +str(even))\n",
    "print(\"The Odd Elements are : \" +str(odd))"
   ]
  },
  {
   "cell_type": "markdown",
   "id": "97bd9409",
   "metadata": {},
   "source": [
    "## Question 5"
   ]
  },
  {
   "cell_type": "code",
   "execution_count": 5,
   "id": "dd73b44d",
   "metadata": {},
   "outputs": [
    {
     "name": "stdout",
     "output_type": "stream",
     "text": [
      "Question 5(a)\n",
      "\n",
      "True\n",
      "False\n",
      "\n",
      "Question 5(b)\n",
      "\n",
      "False\n",
      "True\n"
     ]
    }
   ],
   "source": [
    "print('Question 5(a)')\n",
    "print(\"\")\n",
    "def inside(x,y,x1,y1,x2,y2):\n",
    "  if x1 <= x <= x2 and y1 <= y <= y2:\n",
    "    return True\n",
    "  else:\n",
    "    return False\n",
    "print(inside(1,1,0,0,2,3)) \n",
    "print(inside(-1,-1,0,0,2,3)) \n",
    "print(\"\")\n",
    "print('Question 5(b)')\n",
    "print(\"\")\n",
    "print(inside(1,1,0.3,0.5,1.1,0.7)) \n",
    "print(inside(1,1,0.5,0.2,1.1,2))"
   ]
  },
  {
   "cell_type": "markdown",
   "id": "4b556914",
   "metadata": {},
   "source": [
    "## Question 6"
   ]
  },
  {
   "cell_type": "code",
   "execution_count": 6,
   "id": "b140e34b",
   "metadata": {},
   "outputs": [
    {
     "name": "stdout",
     "output_type": "stream",
     "text": [
      "Enter a word: Enter\n",
      "\n",
      "ntereay\n",
      "\n",
      "appyhay\n"
     ]
    }
   ],
   "source": [
    "def pig(word):\n",
    "    if word[0] in \"aeiou\":\n",
    "        pig_word = word + \"way\"\n",
    "    else:\n",
    "        pig_word = word[1:] + word[0] + \"ay\"\n",
    "    return pig_word.lower()\n",
    "word = input(\"Enter a word: \")\n",
    "print(\"\")\n",
    "print(pig(word))\n",
    "print(\"\")\n",
    "print(pig(\"Happy\"))"
   ]
  },
  {
   "cell_type": "markdown",
   "id": "0322f14f",
   "metadata": {},
   "source": [
    "## Question 7"
   ]
  },
  {
   "cell_type": "code",
   "execution_count": 7,
   "id": "d607b672",
   "metadata": {},
   "outputs": [
    {
     "name": "stdout",
     "output_type": "stream",
     "text": [
      "There are 15  no patient of bloodtype A.\n",
      "There are one patient of bloodtype B.\n",
      "There are 13  no patient of bloodtype AB.\n",
      "There are 15  no patient of bloodtype O.\n",
      "There are no patient of bloodtype OO.\n"
     ]
    }
   ],
   "source": [
    "def bldcount(bloodtype):\n",
    "    infile=open(bloodtype,'r')\n",
    "    a=infile.read()\n",
    "    infile.close()\n",
    "    content = a.split()\n",
    "    bloodtype = ['A','B','AB','O','OO']\n",
    "    for i in bloodtype:\n",
    "        if content.count(i)==0:\n",
    "          print(\"There are no patient of bloodtype\" , i+ \".\")\n",
    "        elif content.count(i)==1:\n",
    "          print(\"There are one patient of bloodtype\" , i+ \".\")\n",
    "        else:\n",
    "          print(\"There are\",content.count(i),\" no patient of bloodtype\" , i+ \".\")\n",
    "bldcount('bloodtype.txt')"
   ]
  },
  {
   "cell_type": "markdown",
   "id": "e5e53da4",
   "metadata": {},
   "source": [
    "## Question 8"
   ]
  },
  {
   "cell_type": "code",
   "execution_count": 8,
   "id": "b506f76a",
   "metadata": {},
   "outputs": [
    {
     "name": "stdout",
     "output_type": "stream",
     "text": [
      "122.96544\n",
      "\n",
      "1.241401\n",
      "\n"
     ]
    }
   ],
   "source": [
    "def curconv(a,b):\n",
    "    ans=0\n",
    "    con=['AUD','CHF','CNY','DKK','EUR','GBP','HKD','INR','JPY','MXN','MYR','NOK','NZD','PHP','SEK','SGD','THB']\n",
    "    rate=[1.0345157,1.0237414,0.1550176,0.1651442,1.2296544,1.5550989,0.1270207,0.0177643,0.01241401,0.0751848,0.3145411,0.1677063,0.8003591,0.0233234,0.148269,0.788871,0.0313789]\n",
    "    for i in range(len(con)):\n",
    "        if(con[i]==a):\n",
    "            ans=b*rate[i]\n",
    "            break\n",
    "    return ans;\n",
    "print(curconv('EUR',100))\n",
    "print(\"\")\n",
    "print(curconv('JPY',100))\n",
    "print(\"\")"
   ]
  },
  {
   "cell_type": "markdown",
   "id": "4562fca8",
   "metadata": {},
   "source": [
    "## Question 9"
   ]
  },
  {
   "cell_type": "markdown",
   "id": "ccffa648",
   "metadata": {},
   "source": [
    "#### The first will cause a TypeError.\n",
    "#### The second will cause an IndexError.\n",
    "#### The third will cause a ValueError.\n",
    "#### The fourth will cause a NameError.\n",
    "#### The fifth will cause an IOError."
   ]
  },
  {
   "cell_type": "markdown",
   "id": "65a2e03c",
   "metadata": {},
   "source": [
    "## Question 10"
   ]
  },
  {
   "cell_type": "code",
   "execution_count": 9,
   "id": "4b6164c3",
   "metadata": {},
   "outputs": [
    {
     "name": "stdout",
     "output_type": "stream",
     "text": [
      "[1, 1, 1, 3, 5, 1, 1, 2, 1, 0, 1, 0, 1, 2, 4, 0, 1, 2, 0, 3, 1, 0, 1, 1, 0, 0]\n",
      "[1, 0, 0, 0, 1, 0, 0, 0, 0, 0, 0, 1, 0, 0, 0, 2, 0, 0, 0, 0, 0, 0, 0, 0, 0, 0]\n"
     ]
    }
   ],
   "source": [
    "def frequencies(str):\n",
    "    letters = 'abcdefghijklmnopqrstuvwxyz'\n",
    "    frq = [0] * 26 \n",
    "    for i in range(26):\n",
    "        for ch in str:\n",
    "            if letters[i] == ch.lower():\n",
    "                frq[i] += 1\n",
    "    return frq\n",
    "\n",
    "print(frequencies(\"The quick red fox got bored and went home.\"))\n",
    "print(frequencies(\"apple\"))"
   ]
  },
  {
   "cell_type": "markdown",
   "id": "2c005380",
   "metadata": {},
   "source": [
    "# End of File!"
   ]
  },
  {
   "cell_type": "code",
   "execution_count": null,
   "id": "d716a7d9",
   "metadata": {},
   "outputs": [],
   "source": []
  }
 ],
 "metadata": {
  "kernelspec": {
   "display_name": "Python 3 (ipykernel)",
   "language": "python",
   "name": "python3"
  },
  "language_info": {
   "codemirror_mode": {
    "name": "ipython",
    "version": 3
   },
   "file_extension": ".py",
   "mimetype": "text/x-python",
   "name": "python",
   "nbconvert_exporter": "python",
   "pygments_lexer": "ipython3",
   "version": "3.9.13"
  }
 },
 "nbformat": 4,
 "nbformat_minor": 5
}
